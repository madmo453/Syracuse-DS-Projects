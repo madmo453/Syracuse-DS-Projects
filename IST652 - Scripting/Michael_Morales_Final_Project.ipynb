{
 "cells": [
  {
   "cell_type": "code",
   "execution_count": 4,
   "metadata": {},
   "outputs": [],
   "source": [
    "import json\n",
    "import nltk\n",
    "import urllib\n",
    "import datetime as dt\n",
    "import pandas as pd\n",
    "import nltk\n",
    "from datetime import timedelta\n",
    "import seaborn as sns\n",
    "import apyori\n",
    "from apyori import apriori\n",
    "\n",
    "from sklearn.neighbors import KNeighborsClassifier\n",
    "from sklearn import preprocessing, metrics\n",
    "from sklearn.model_selection import cross_validate, cross_val_score, train_test_split, GridSearchCV, KFold\n",
    "from sklearn.naive_bayes import GaussianNB\n",
    "from sklearn.metrics import roc_curve, precision_recall_curve, auc, make_scorer, recall_score, accuracy_score, precision_score, confusion_matrix\n",
    "from sklearn.svm import LinearSVC\n",
    "from sklearn.utils.multiclass import unique_labels\n",
    "from sklearn.linear_model import LogisticRegression\n",
    "from sklearn import linear_model\n",
    "from sklearn.ensemble import RandomForestClassifier"
   ]
  },
  {
   "cell_type": "code",
   "execution_count": 5,
   "metadata": {},
   "outputs": [],
   "source": [
    "hike_data = pd.read_csv('gpx-tracks-from-hikr.org.csv')"
   ]
  },
  {
   "cell_type": "code",
   "execution_count": 6,
   "metadata": {},
   "outputs": [
    {
     "data": {
      "text/plain": [
       "Index(['_id', 'length_3d', 'user', 'start_time', 'max_elevation', 'bounds',\n",
       "       'uphill', 'moving_time', 'end_time', 'max_speed', 'gpx', 'difficulty',\n",
       "       'min_elevation', 'url', 'downhill', 'name', 'length_2d'],\n",
       "      dtype='object')"
      ]
     },
     "execution_count": 6,
     "metadata": {},
     "output_type": "execute_result"
    }
   ],
   "source": [
    "hike_data.columns"
   ]
  },
  {
   "cell_type": "code",
   "execution_count": 7,
   "metadata": {},
   "outputs": [],
   "source": [
    "# select needed columns - removing length_2d because it is the hike distance in meters on the 2d map\n",
    "columns = ['length_3d', 'start_time', 'end_time', 'min_elevation', 'max_elevation', 'uphill', 'downhill', 'max_speed', 'difficulty']\n",
    "hike_data = hike_data[columns]\n",
    "\n",
    "# drop any rows with NAs in the time columns - hike duration is needed for the analysis and the data set is large\n",
    "hike_data = hike_data.dropna(how='any')\n",
    "\n",
    "# recast start time and end time as datetime objects\n",
    "hike_data['start_time'] = pd.to_datetime(hike_data['start_time'], errors='coerce', format = '%Y-%m-%d %H:%M:%S')\n",
    "hike_data['end_time'] = pd.to_datetime(hike_data['end_time'], errors='coerce', format = '%Y-%m-%d %H:%M:%S')\n",
    "\n",
    "# only keep first two characters of difficulty column - we know the definitions of the designations\n",
    "hike_data['difficulty'] = hike_data['difficulty'].str[:2]\n",
    "\n",
    "# discretize difficulty value\n",
    "hike_data['difficulty'] = hike_data['difficulty'].astype('category')"
   ]
  },
  {
   "cell_type": "code",
   "execution_count": 8,
   "metadata": {},
   "outputs": [],
   "source": [
    "# derive values from existing columns\n",
    "\n",
    "hike_data['duration'] = (hike_data['end_time'] - hike_data['start_time'])\n",
    "hike_data['elevation_range'] = (hike_data['max_elevation'] - hike_data['min_elevation'])\n",
    "hike_data['length_km'] = round(hike_data['length_3d'].astype(float), 3) / 1000"
   ]
  },
  {
   "cell_type": "code",
   "execution_count": 9,
   "metadata": {},
   "outputs": [],
   "source": [
    "# convert duration to seconds\n",
    "hike_data['duration'] = hike_data['duration'].dt.seconds"
   ]
  },
  {
   "cell_type": "code",
   "execution_count": 10,
   "metadata": {},
   "outputs": [],
   "source": [
    "# dicard any remaining rows with nulls\n",
    "hike_data = hike_data.dropna(how='any')"
   ]
  },
  {
   "cell_type": "code",
   "execution_count": 11,
   "metadata": {},
   "outputs": [],
   "source": [
    "# drop any duplicates\n",
    "hike_data = hike_data.drop_duplicates()"
   ]
  },
  {
   "cell_type": "code",
   "execution_count": 12,
   "metadata": {},
   "outputs": [
    {
     "data": {
      "text/plain": [
       "(7346, 12)"
      ]
     },
     "execution_count": 12,
     "metadata": {},
     "output_type": "execute_result"
    }
   ],
   "source": [
    "hike_data.shape"
   ]
  },
  {
   "cell_type": "code",
   "execution_count": 13,
   "metadata": {},
   "outputs": [
    {
     "data": {
      "text/plain": [
       "<matplotlib.axes._subplots.AxesSubplot at 0x2ad0f2a2710>"
      ]
     },
     "execution_count": 13,
     "metadata": {},
     "output_type": "execute_result"
    },
    {
     "data": {
      "image/png": "[encoded data removed]",
      "text/plain": [
       "<Figure size 432x288 with 1 Axes>"
      ]
     },
     "metadata": {
      "needs_background": "light"
     },
     "output_type": "display_data"
    }
   ],
   "source": [
    "# check for outliers using boxplots\n",
    "\n",
    "sns.boxplot(x = hike_data['min_elevation'])"
   ]
  },
  {
   "cell_type": "code",
   "execution_count": 14,
   "metadata": {},
   "outputs": [
    {
     "data": {
      "text/plain": [
       "<matplotlib.axes._subplots.AxesSubplot at 0x2ad0023c6a0>"
      ]
     },
     "execution_count": 14,
     "metadata": {},
     "output_type": "execute_result"
    },
    {
     "data": {
      "image/png": "[encoded data removed]",
      "text/plain": [
       "<Figure size 432x288 with 1 Axes>"
      ]
     },
     "metadata": {
      "needs_background": "light"
     },
     "output_type": "display_data"
    }
   ],
   "source": [
    "sns.boxplot(x = hike_data['max_elevation'])"
   ]
  },
  {
   "cell_type": "code",
   "execution_count": 15,
   "metadata": {},
   "outputs": [
    {
     "data": {
      "text/plain": [
       "<matplotlib.axes._subplots.AxesSubplot at 0x2ad00283550>"
      ]
     },
     "execution_count": 15,
     "metadata": {},
     "output_type": "execute_result"
    },
    {
     "data": {
      "image/png": "[encoded data removed]",
      "text/plain": [
       "<Figure size 432x288 with 1 Axes>"
      ]
     },
     "metadata": {
      "needs_background": "light"
     },
     "output_type": "display_data"
    }
   ],
   "source": [
    "sns.boxplot(x = hike_data['uphill'])"
   ]
  },
  {
   "cell_type": "code",
   "execution_count": 16,
   "metadata": {},
   "outputs": [
    {
     "data": {
      "text/plain": [
       "<matplotlib.axes._subplots.AxesSubplot at 0x2ad0006ae48>"
      ]
     },
     "execution_count": 16,
     "metadata": {},
     "output_type": "execute_result"
    },
    {
     "data": {
      "image/png": "[encoded data removed]",
      "text/plain": [
       "<Figure size 432x288 with 1 Axes>"
      ]
     },
     "metadata": {
      "needs_background": "light"
     },
     "output_type": "display_data"
    }
   ],
   "source": [
    "sns.boxplot(x = hike_data['downhill'])"
   ]
  },
  {
   "cell_type": "code",
   "execution_count": 17,
   "metadata": {},
   "outputs": [
    {
     "data": {
      "text/plain": [
       "<matplotlib.axes._subplots.AxesSubplot at 0x2ad0f282588>"
      ]
     },
     "execution_count": 17,
     "metadata": {},
     "output_type": "execute_result"
    },
    {
     "data": {
      "image/png": "[encoded data removed]",
      "text/plain": [
       "<Figure size 432x288 with 1 Axes>"
      ]
     },
     "metadata": {
      "needs_background": "light"
     },
     "output_type": "display_data"
    }
   ],
   "source": [
    "sns.boxplot(x = hike_data['max_speed'])"
   ]
  },
  {
   "cell_type": "code",
   "execution_count": 18,
   "metadata": {},
   "outputs": [
    {
     "data": {
      "text/plain": [
       "<matplotlib.axes._subplots.AxesSubplot at 0x2ad6cfd0ba8>"
      ]
     },
     "execution_count": 18,
     "metadata": {},
     "output_type": "execute_result"
    },
    {
     "data": {
      "image/png": "[encoded data removed]",
      "text/plain": [
       "<Figure size 432x288 with 1 Axes>"
      ]
     },
     "metadata": {
      "needs_background": "light"
     },
     "output_type": "display_data"
    }
   ],
   "source": [
    "sns.boxplot(x = hike_data['duration'])"
   ]
  },
  {
   "cell_type": "code",
   "execution_count": 19,
   "metadata": {},
   "outputs": [
    {
     "data": {
      "text/plain": [
       "<matplotlib.axes._subplots.AxesSubplot at 0x2ad0010e780>"
      ]
     },
     "execution_count": 19,
     "metadata": {},
     "output_type": "execute_result"
    },
    {
     "data": {
      "image/png": "[encoded data removed]",
      "text/plain": [
       "<Figure size 432x288 with 1 Axes>"
      ]
     },
     "metadata": {
      "needs_background": "light"
     },
     "output_type": "display_data"
    }
   ],
   "source": [
    "sns.boxplot(x = hike_data['elevation_range'])"
   ]
  },
  {
   "cell_type": "code",
   "execution_count": 20,
   "metadata": {},
   "outputs": [
    {
     "data": {
      "text/plain": [
       "<matplotlib.axes._subplots.AxesSubplot at 0x2ad00169a90>"
      ]
     },
     "execution_count": 20,
     "metadata": {},
     "output_type": "execute_result"
    },
    {
     "data": {
      "image/png": "[encoded data removed]",
      "text/plain": [
       "<Figure size 432x288 with 1 Axes>"
      ]
     },
     "metadata": {
      "needs_background": "light"
     },
     "output_type": "display_data"
    }
   ],
   "source": [
    "sns.boxplot(x = hike_data['length_km'])"
   ]
  },
  {
   "cell_type": "code",
   "execution_count": 21,
   "metadata": {},
   "outputs": [],
   "source": [
    "# Remove extreme outliers\n",
    "hike_data = hike_data.drop(hike_data[hike_data.length_km > 300.0].index)\n",
    "hike_data = hike_data.drop(hike_data[hike_data.max_speed > 150.0].index)\n",
    "hike_data = hike_data.drop(hike_data[hike_data.elevation_range > 3000.0].index)\n",
    "hike_data = hike_data.drop(hike_data[hike_data.max_speed == 0.0].index)\n",
    "hike_data = hike_data.drop(hike_data[hike_data.downhill > 15000].index)\n",
    "hike_data = hike_data.drop(hike_data[hike_data.uphill > 15000].index)"
   ]
  },
  {
   "cell_type": "code",
   "execution_count": 22,
   "metadata": {},
   "outputs": [
    {
     "data": {
      "text/plain": [
       "(7211, 12)"
      ]
     },
     "execution_count": 22,
     "metadata": {},
     "output_type": "execute_result"
    }
   ],
   "source": [
    "# see how much data is left\n",
    "\n",
    "hike_data.shape"
   ]
  },
  {
   "cell_type": "code",
   "execution_count": 23,
   "metadata": {},
   "outputs": [],
   "source": [
    "# only use columns needed for statistics and models\n",
    "columns = ['max_speed', 'length_km', 'duration', 'elevation_range', 'uphill','downhill', 'difficulty']\n",
    "hd = hike_data[columns]"
   ]
  },
  {
   "cell_type": "code",
   "execution_count": 24,
   "metadata": {},
   "outputs": [],
   "source": [
    "## SUMMARY STATISTICS"
   ]
  },
  {
   "cell_type": "code",
   "execution_count": 25,
   "metadata": {},
   "outputs": [
    {
     "data": {
      "text/html": [
       "<div>\n",
       "<style scoped>\n",
       "    .dataframe tbody tr th:only-of-type {\n",
       "        vertical-align: middle;\n",
       "    }\n",
       "\n",
       "    .dataframe tbody tr th {\n",
       "        vertical-align: top;\n",
       "    }\n",
       "\n",
       "    .dataframe thead th {\n",
       "        text-align: right;\n",
       "    }\n",
       "</style>\n",
       "<table border=\"1\" class=\"dataframe\">\n",
       "  <thead>\n",
       "    <tr style=\"text-align: right;\">\n",
       "      <th></th>\n",
       "      <th>max_speed</th>\n",
       "      <th>length_km</th>\n",
       "      <th>duration</th>\n",
       "      <th>elevation_range</th>\n",
       "      <th>uphill</th>\n",
       "      <th>downhill</th>\n",
       "    </tr>\n",
       "  </thead>\n",
       "  <tbody>\n",
       "    <tr>\n",
       "      <th>count</th>\n",
       "      <td>7211.000000</td>\n",
       "      <td>7211.000000</td>\n",
       "      <td>7211.000000</td>\n",
       "      <td>7211.000000</td>\n",
       "      <td>7211.000000</td>\n",
       "      <td>7211.000000</td>\n",
       "    </tr>\n",
       "    <tr>\n",
       "      <th>mean</th>\n",
       "      <td>2.002001</td>\n",
       "      <td>14.438936</td>\n",
       "      <td>22701.388712</td>\n",
       "      <td>948.338331</td>\n",
       "      <td>1092.586950</td>\n",
       "      <td>1024.532703</td>\n",
       "    </tr>\n",
       "    <tr>\n",
       "      <th>std</th>\n",
       "      <td>3.286700</td>\n",
       "      <td>10.756578</td>\n",
       "      <td>11135.431570</td>\n",
       "      <td>468.805099</td>\n",
       "      <td>707.352650</td>\n",
       "      <td>741.914197</td>\n",
       "    </tr>\n",
       "    <tr>\n",
       "      <th>min</th>\n",
       "      <td>0.481589</td>\n",
       "      <td>0.968657</td>\n",
       "      <td>0.000000</td>\n",
       "      <td>0.000000</td>\n",
       "      <td>0.000000</td>\n",
       "      <td>0.000000</td>\n",
       "    </tr>\n",
       "    <tr>\n",
       "      <th>25%</th>\n",
       "      <td>1.282566</td>\n",
       "      <td>9.186569</td>\n",
       "      <td>15278.000000</td>\n",
       "      <td>618.020000</td>\n",
       "      <td>676.766500</td>\n",
       "      <td>584.127500</td>\n",
       "    </tr>\n",
       "    <tr>\n",
       "      <th>50%</th>\n",
       "      <td>1.440419</td>\n",
       "      <td>12.724665</td>\n",
       "      <td>22720.000000</td>\n",
       "      <td>930.000000</td>\n",
       "      <td>1020.400000</td>\n",
       "      <td>965.169000</td>\n",
       "    </tr>\n",
       "    <tr>\n",
       "      <th>75%</th>\n",
       "      <td>1.690176</td>\n",
       "      <td>17.172863</td>\n",
       "      <td>29274.000000</td>\n",
       "      <td>1260.927000</td>\n",
       "      <td>1396.370002</td>\n",
       "      <td>1367.245500</td>\n",
       "    </tr>\n",
       "    <tr>\n",
       "      <th>max</th>\n",
       "      <td>107.172451</td>\n",
       "      <td>226.907817</td>\n",
       "      <td>86386.000000</td>\n",
       "      <td>2967.400146</td>\n",
       "      <td>11093.970000</td>\n",
       "      <td>10408.600000</td>\n",
       "    </tr>\n",
       "  </tbody>\n",
       "</table>\n",
       "</div>"
      ],
      "text/plain": [
       "         max_speed    length_km      duration  elevation_range        uphill  \\\n",
       "count  7211.000000  7211.000000   7211.000000      7211.000000   7211.000000   \n",
       "mean      2.002001    14.438936  22701.388712       948.338331   1092.586950   \n",
       "std       3.286700    10.756578  11135.431570       468.805099    707.352650   \n",
       "min       0.481589     0.968657      0.000000         0.000000      0.000000   \n",
       "25%       1.282566     9.186569  15278.000000       618.020000    676.766500   \n",
       "50%       1.440419    12.724665  22720.000000       930.000000   1020.400000   \n",
       "75%       1.690176    17.172863  29274.000000      1260.927000   1396.370002   \n",
       "max     107.172451   226.907817  86386.000000      2967.400146  11093.970000   \n",
       "\n",
       "           downhill  \n",
       "count   7211.000000  \n",
       "mean    1024.532703  \n",
       "std      741.914197  \n",
       "min        0.000000  \n",
       "25%      584.127500  \n",
       "50%      965.169000  \n",
       "75%     1367.245500  \n",
       "max    10408.600000  "
      ]
     },
     "execution_count": 25,
     "metadata": {},
     "output_type": "execute_result"
    }
   ],
   "source": [
    "hd.describe()"
   ]
  },
  {
   "cell_type": "code",
   "execution_count": 26,
   "metadata": {},
   "outputs": [
    {
     "data": {
      "text/html": [
       "<div>\n",
       "<style scoped>\n",
       "    .dataframe tbody tr th:only-of-type {\n",
       "        vertical-align: middle;\n",
       "    }\n",
       "\n",
       "    .dataframe tbody tr th {\n",
       "        vertical-align: top;\n",
       "    }\n",
       "\n",
       "    .dataframe thead th {\n",
       "        text-align: right;\n",
       "    }\n",
       "</style>\n",
       "<table border=\"1\" class=\"dataframe\">\n",
       "  <thead>\n",
       "    <tr style=\"text-align: right;\">\n",
       "      <th></th>\n",
       "      <th>max_speed</th>\n",
       "      <th>length_km</th>\n",
       "      <th>duration</th>\n",
       "      <th>elevation_range</th>\n",
       "      <th>uphill</th>\n",
       "      <th>downhill</th>\n",
       "      <th>difficulty</th>\n",
       "    </tr>\n",
       "  </thead>\n",
       "  <tbody>\n",
       "    <tr>\n",
       "      <th>0</th>\n",
       "      <td>1.595493</td>\n",
       "      <td>10.832953</td>\n",
       "      <td>14443.0</td>\n",
       "      <td>611.51</td>\n",
       "      <td>612.880</td>\n",
       "      <td>609.670</td>\n",
       "      <td>T2</td>\n",
       "    </tr>\n",
       "    <tr>\n",
       "      <th>1</th>\n",
       "      <td>1.394320</td>\n",
       "      <td>12.259376</td>\n",
       "      <td>17000.0</td>\n",
       "      <td>919.81</td>\n",
       "      <td>614.753</td>\n",
       "      <td>1193.733</td>\n",
       "      <td>T3</td>\n",
       "    </tr>\n",
       "    <tr>\n",
       "      <th>2</th>\n",
       "      <td>1.503002</td>\n",
       "      <td>22.980168</td>\n",
       "      <td>32585.0</td>\n",
       "      <td>2088.46</td>\n",
       "      <td>2255.976</td>\n",
       "      <td>2177.626</td>\n",
       "      <td>T3</td>\n",
       "    </tr>\n",
       "    <tr>\n",
       "      <th>3</th>\n",
       "      <td>1.516689</td>\n",
       "      <td>24.903503</td>\n",
       "      <td>32936.0</td>\n",
       "      <td>573.91</td>\n",
       "      <td>882.312</td>\n",
       "      <td>901.052</td>\n",
       "      <td>T2</td>\n",
       "    </tr>\n",
       "    <tr>\n",
       "      <th>4</th>\n",
       "      <td>1.542405</td>\n",
       "      <td>19.581274</td>\n",
       "      <td>25767.0</td>\n",
       "      <td>259.07</td>\n",
       "      <td>310.662</td>\n",
       "      <td>305.372</td>\n",
       "      <td>T2</td>\n",
       "    </tr>\n",
       "  </tbody>\n",
       "</table>\n",
       "</div>"
      ],
      "text/plain": [
       "   max_speed  length_km  duration  elevation_range    uphill  downhill  \\\n",
       "0   1.595493  10.832953   14443.0           611.51   612.880   609.670   \n",
       "1   1.394320  12.259376   17000.0           919.81   614.753  1193.733   \n",
       "2   1.503002  22.980168   32585.0          2088.46  2255.976  2177.626   \n",
       "3   1.516689  24.903503   32936.0           573.91   882.312   901.052   \n",
       "4   1.542405  19.581274   25767.0           259.07   310.662   305.372   \n",
       "\n",
       "  difficulty  \n",
       "0         T2  \n",
       "1         T3  \n",
       "2         T3  \n",
       "3         T2  \n",
       "4         T2  "
      ]
     },
     "execution_count": 26,
     "metadata": {},
     "output_type": "execute_result"
    }
   ],
   "source": [
    "hd.head()"
   ]
  },
  {
   "cell_type": "code",
   "execution_count": 27,
   "metadata": {},
   "outputs": [
    {
     "data": {
      "text/plain": [
       "T3    2575\n",
       "T2    2233\n",
       "T4    1081\n",
       "T1     570\n",
       "T5     554\n",
       "T6     198\n",
       "Name: difficulty, dtype: int64"
      ]
     },
     "execution_count": 27,
     "metadata": {},
     "output_type": "execute_result"
    }
   ],
   "source": [
    "hd['difficulty'].value_counts()"
   ]
  },
  {
   "cell_type": "code",
   "execution_count": 28,
   "metadata": {},
   "outputs": [],
   "source": [
    "# Create a train/test split\n",
    "\n",
    "cols = [col for col in hd if col not in ['difficulty']]\n",
    "ycols = [col for col in hd if col in ['difficulty']]\n",
    "hike_predictors = hd[cols]\n",
    "hike_target = hd[ycols]\n",
    "\n",
    "trainX, testX, trainY, testY = train_test_split(hike_predictors,\\\n",
    "                                                hike_target,\\\n",
    "                                                test_size = 0.20,\\\n",
    "                                                random_state=10)"
   ]
  },
  {
   "cell_type": "code",
   "execution_count": 29,
   "metadata": {},
   "outputs": [
    {
     "name": "stdout",
     "output_type": "stream",
     "text": [
      "difficulty\n"
     ]
    }
   ],
   "source": [
    "# verify target dataframe only includes the target variable\n",
    "for col in hike_target.columns:\n",
    "    print(col)"
   ]
  },
  {
   "cell_type": "code",
   "execution_count": 30,
   "metadata": {},
   "outputs": [
    {
     "name": "stdout",
     "output_type": "stream",
     "text": [
      "(5768, 6) (5768, 1) (1443, 6) (5768, 1)\n"
     ]
    }
   ],
   "source": [
    "# check the size of the train and test splits\n",
    "print(trainX.shape, trainY.shape, testX.shape, trainY.shape)"
   ]
  },
  {
   "cell_type": "code",
   "execution_count": 31,
   "metadata": {},
   "outputs": [
    {
     "name": "stdout",
     "output_type": "stream",
     "text": [
      "Naive Bayes accuracy: 44.14 \b%\n",
      "Naive Bayes accuracy, 5-fold cross-validation:  41.97 \b%\n"
     ]
    }
   ],
   "source": [
    "# Naive Bayes\n",
    "\n",
    "# Create a naive Bayes object\n",
    "gnb = GaussianNB()\n",
    "# Train the algorithm and form a predictive model\n",
    "modelNB = gnb.fit(trainX, trainY.values.ravel())\n",
    "predNB= modelNB.predict(testX)\n",
    "# Test the model and report the accuracy score\n",
    "print(\"Naive Bayes accuracy:\", round(accuracy_score(testY, predNB, normalize=True)*100, 2), \"\\b%\")\n",
    "\n",
    "# with 5-fold cross-validation\n",
    "scoreNBcv05 = cross_val_score(modelNB, trainX, trainY.values.ravel(), cv=5)\n",
    "print(\"Naive Bayes accuracy, 5-fold cross-validation: \", round(scoreNBcv05.mean()*100, 2), \"\\b%\")"
   ]
  },
  {
   "cell_type": "code",
   "execution_count": 32,
   "metadata": {},
   "outputs": [
    {
     "name": "stdout",
     "output_type": "stream",
     "text": [
      "K-Nearest Neighbors accuracy:  45.39%\n",
      "K-Nearest Neighbors accuracy, 5-fold cross-validation:  43.98%\n"
     ]
    }
   ],
   "source": [
    "# K-Nearest Neighbors\n",
    "\n",
    "# Creat a KNN Object\n",
    "knn = KNeighborsClassifier(n_neighbors=10)\n",
    "# Train the algorithm and form a predictive model\n",
    "modelKNN = knn.fit(trainX, trainY.values.ravel())\n",
    "predKNN = modelKNN.predict(testX)\n",
    "# Test the model and report the accuracy score\n",
    "print(\"K-Nearest Neighbors accuracy: \", round(accuracy_score(testY, predKNN, normalize=True)*100, 2), \"\\b%\")\n",
    "\n",
    "# With 5-fold cross-validation\n",
    "scoreKNNcv05 = cross_val_score(modelKNN, trainX, trainY.values.ravel(), cv=5)\n",
    "print(\"K-Nearest Neighbors accuracy, 5-fold cross-validation: \", round(scoreKNNcv05.mean()*100, 2), \"\\b%\")"
   ]
  },
  {
   "cell_type": "code",
   "execution_count": 33,
   "metadata": {},
   "outputs": [
    {
     "name": "stderr",
     "output_type": "stream",
     "text": [
      "C:\\Users\\madmo\\Anaconda3\\lib\\site-packages\\sklearn\\utils\\optimize.py:203: ConvergenceWarning: newton-cg failed to converge. Increase the number of iterations.\n",
      "  \"number of iterations.\", ConvergenceWarning)\n"
     ]
    },
    {
     "name": "stdout",
     "output_type": "stream",
     "text": [
      "Multinomial Logistic Regression accuracy:  49.0 \b%\n"
     ]
    },
    {
     "name": "stderr",
     "output_type": "stream",
     "text": [
      "C:\\Users\\madmo\\Anaconda3\\lib\\site-packages\\sklearn\\utils\\optimize.py:203: ConvergenceWarning: newton-cg failed to converge. Increase the number of iterations.\n",
      "  \"number of iterations.\", ConvergenceWarning)\n",
      "C:\\Users\\madmo\\Anaconda3\\lib\\site-packages\\sklearn\\utils\\optimize.py:203: ConvergenceWarning: newton-cg failed to converge. Increase the number of iterations.\n",
      "  \"number of iterations.\", ConvergenceWarning)\n",
      "C:\\Users\\madmo\\Anaconda3\\lib\\site-packages\\sklearn\\utils\\optimize.py:203: ConvergenceWarning: newton-cg failed to converge. Increase the number of iterations.\n",
      "  \"number of iterations.\", ConvergenceWarning)\n",
      "C:\\Users\\madmo\\Anaconda3\\lib\\site-packages\\sklearn\\utils\\optimize.py:203: ConvergenceWarning: newton-cg failed to converge. Increase the number of iterations.\n",
      "  \"number of iterations.\", ConvergenceWarning)\n"
     ]
    },
    {
     "name": "stdout",
     "output_type": "stream",
     "text": [
      "Multinomial Logistic Regression accuracy, 5-fold cross-validation:  48.11 \b%\n"
     ]
    },
    {
     "name": "stderr",
     "output_type": "stream",
     "text": [
      "C:\\Users\\madmo\\Anaconda3\\lib\\site-packages\\sklearn\\utils\\optimize.py:203: ConvergenceWarning: newton-cg failed to converge. Increase the number of iterations.\n",
      "  \"number of iterations.\", ConvergenceWarning)\n"
     ]
    }
   ],
   "source": [
    "# Multinomial Logistic Regression\n",
    "\n",
    "mlr_model = linear_model.LogisticRegression(multi_class = 'multinomial', solver = 'newton-cg')\n",
    "modelMLR = mlr_model.fit(trainX, trainY.values.ravel())\n",
    "predMLR = modelMLR.predict(testX)\n",
    "print(\"Multinomial Logistic Regression accuracy: \", round(accuracy_score(testY, predMLR, normalize=True)*100, 2), \"\\b%\")\n",
    "\n",
    "# With 5-fold cross-validation\n",
    "scoreMLRcv05 = cross_val_score(modelMLR, trainX, trainY.values.ravel(), cv=5)\n",
    "print(\"Multinomial Logistic Regression accuracy, 5-fold cross-validation: \", round(scoreMLRcv05.mean()*100, 2), \"\\b%\")"
   ]
  },
  {
   "cell_type": "code",
   "execution_count": 34,
   "metadata": {},
   "outputs": [
    {
     "name": "stderr",
     "output_type": "stream",
     "text": [
      "C:\\Users\\madmo\\Anaconda3\\lib\\site-packages\\sklearn\\ensemble\\forest.py:246: FutureWarning: The default value of n_estimators will change from 10 in version 0.20 to 100 in 0.22.\n",
      "  \"10 in version 0.20 to 100 in 0.22.\", FutureWarning)\n"
     ]
    },
    {
     "name": "stdout",
     "output_type": "stream",
     "text": [
      "Random Forest accuracy: 44.77%\n",
      "Random Forest accuracy, 5-fold cross-validation:  44.97%\n"
     ]
    }
   ],
   "source": [
    "# Random Forest\n",
    "\n",
    "# Create a Random Forest object\n",
    "RF = RandomForestClassifier()\n",
    "# Train the algorithm and form a predictive model\n",
    "modelRF = RF.fit(trainX, trainY.values.ravel())\n",
    "predRF = modelRF.predict(testX)\n",
    "print(\"Random Forest accuracy:\", round(accuracy_score(testY, predRF, normalize=True)*100, 2), \"\\b%\")\n",
    "\n",
    "# With 5-fold cross-validation\n",
    "scoreRFcv05 = cross_val_score(modelRF, trainX, trainY.values.ravel(), cv=5)\n",
    "print(\"Random Forest accuracy, 5-fold cross-validation: \", round(scoreRFcv05.mean()*100, 2), \"\\b%\")"
   ]
  },
  {
   "cell_type": "code",
   "execution_count": null,
   "metadata": {},
   "outputs": [],
   "source": []
  }
 ],
 "metadata": {
  "kernelspec": {
   "display_name": "Python 3",
   "language": "python",
   "name": "python3"
  },
  "language_info": {
   "codemirror_mode": {
    "name": "ipython",
    "version": 3
   },
   "file_extension": ".py",
   "mimetype": "text/x-python",
   "name": "python",
   "nbconvert_exporter": "python",
   "pygments_lexer": "ipython3",
   "version": "3.7.3"
  }
 },
 "nbformat": 4,
 "nbformat_minor": 2
}
